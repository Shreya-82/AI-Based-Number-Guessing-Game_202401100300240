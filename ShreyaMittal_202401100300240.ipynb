{
  "nbformat": 4,
  "nbformat_minor": 0,
  "metadata": {
    "colab": {
      "provenance": []
    },
    "kernelspec": {
      "name": "python3",
      "display_name": "Python 3"
    },
    "language_info": {
      "name": "python"
    }
  },
  "cells": [
    {
      "cell_type": "code",
      "execution_count": 4,
      "metadata": {
        "colab": {
          "base_uri": "https://localhost:8080/"
        },
        "id": "D8yu7Dp8eU1I",
        "outputId": "20e15243-6738-4222-d924-f08c2677db05"
      },
      "outputs": [
        {
          "output_type": "stream",
          "name": "stdout",
          "text": [
            "Welcome to the Number Guessing Game!\n",
            "I will try to guess the number between 1 and 100.\n",
            "My guess is 64\n",
            "Too high! I'll try again.\n",
            "My guess is 14\n",
            "Too low! I'll try again.\n",
            "My guess is 62\n",
            "Too high! I'll try again.\n",
            "My guess is 20\n",
            "Too low! I'll try again.\n",
            "My guess is 28\n",
            "Too high! I'll try again.\n",
            "My guess is 21\n",
            "Too low! I'll try again.\n",
            "My guess is 22\n",
            "Too low! I'll try again.\n",
            "My guess is 24\n",
            "Too low! I'll try again.\n",
            "My guess is 26\n",
            "Too low! I'll try again.\n",
            "My guess is 27\n",
            "Congratulations to me! I've guessed the number 27 in 10 attempts.\n"
          ]
        }
      ],
      "source": [
        "import random\n",
        "\n",
        "def number_guessing_game():\n",
        "    # Generate a random number between 1 and 100\n",
        "    target_number = random.randint(1, 100)\n",
        "    attempts = 0\n",
        "    low = 1\n",
        "    high = 100\n",
        "\n",
        "    print(\"Welcome to the Number Guessing Game!\")\n",
        "    print(\"I will try to guess the number between 1 and 100.\")\n",
        "\n",
        "    while True:\n",
        "        # The AI makes a guess in the middle of the range\n",
        "        guess = random.randint(low, high)\n",
        "        attempts += 1\n",
        "        print(f\"My guess is {guess}\")\n",
        "\n",
        "        # Check if the guess is too low\n",
        "        if guess < target_number:\n",
        "            print(\"Too low! I'll try again.\")\n",
        "            low = guess + 1\n",
        "\n",
        "        # Check if the guess is too high\n",
        "        elif guess > target_number:\n",
        "            print(\"Too high! I'll try again.\")\n",
        "            high = guess - 1\n",
        "\n",
        "        # Check if the guess is correct\n",
        "        else:\n",
        "            print(f\"Congratulations to me! I've guessed the number {target_number} in {attempts} attempts.\")\n",
        "            break\n",
        "\n",
        "# Start the game\n",
        "number_guessing_game()"
      ]
    }
  ]
}